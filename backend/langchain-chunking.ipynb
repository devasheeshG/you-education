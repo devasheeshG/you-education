{
 "cells": [
  {
   "cell_type": "code",
   "execution_count": 1,
   "id": "2c7fc47b",
   "metadata": {},
   "outputs": [],
   "source": [
    "from langchain_community.document_loaders import (\n",
    "    TextLoader,\n",
    "    PyPDFLoader,\n",
    "    UnstructuredPowerPointLoader,\n",
    "    Docx2txtLoader,\n",
    "    UnstructuredMarkdownLoader,\n",
    "    YoutubeLoader,\n",
    "    UnstructuredURLLoader,\n",
    ")\n"
   ]
  }
 ],
 "metadata": {
  "kernelspec": {
   "display_name": ".venv",
   "language": "python",
   "name": "python3"
  },
  "language_info": {
   "codemirror_mode": {
    "name": "ipython",
    "version": 3
   },
   "file_extension": ".py",
   "mimetype": "text/x-python",
   "name": "python",
   "nbconvert_exporter": "python",
   "pygments_lexer": "ipython3",
   "version": "3.12.2"
  }
 },
 "nbformat": 4,
 "nbformat_minor": 5
}
