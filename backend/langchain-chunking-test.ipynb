{
 "cells": [
  {
   "cell_type": "code",
   "execution_count": null,
   "id": "2c7fc47b",
   "metadata": {},
   "outputs": [],
   "source": [
    "from langchain_community.document_loaders import (\n",
    "    TextLoader,\n",
    "    PyPDFLoader,\n",
    "    UnstructuredPowerPointLoader,\n",
    "    Docx2txtLoader,\n",
    "    UnstructuredMarkdownLoader,\n",
    "    YoutubeLoader,\n",
    "    SeleniumURLLoader,\n",
    ")\n"
   ]
  },
  {
   "cell_type": "code",
   "execution_count": null,
   "id": "48d645af",
   "metadata": {},
   "outputs": [],
   "source": [
    "# Create the loader\n",
    "loader = PyPDFLoader(\"test_data/Devasheesh Mishra Resume.pdf\")\n",
    "\n",
    "# Load the documents\n",
    "documents = loader.load()\n",
    "\n",
    "len(documents)\n"
   ]
  },
  {
   "cell_type": "code",
   "execution_count": null,
   "id": "8775c988",
   "metadata": {},
   "outputs": [],
   "source": [
    "# print(documents[0].page_content)\n",
    "print(documents[0].metadata)\n"
   ]
  },
  {
   "cell_type": "code",
   "execution_count": null,
   "id": "cd663cbf",
   "metadata": {},
   "outputs": [],
   "source": [
    "# loader = YoutubeLoader(\"Hj7PuK1bMZU&pp\")\n",
    "loader = YoutubeLoader(\"https://www.youtube.com/watch?v=Hj7PuK1bMZU&pp\")\n",
    "documents = loader.load()\n",
    "print(len(documents))\n"
   ]
  },
  {
   "cell_type": "code",
   "execution_count": null,
   "id": "3ec2ba4e",
   "metadata": {},
   "outputs": [],
   "source": [
    "import re\n",
    "# url = \"https://www.youtube.com/watch?v=Hj7PuK1bMZU&pp\"\n",
    "url = \"https://www.youtube.com/watch?v=Hj7PuK1bMZU&pp=ygUWbGFuZ2NoYWluIGFkdmFuY2VkIHJhZw%3D%3D\"\n",
    "video_id = re.search(r\"(?<=v=)[^&]+\", url).group(0)\n",
    "print(video_id)\n"
   ]
  },
  {
   "cell_type": "code",
   "execution_count": null,
   "id": "a097c228",
   "metadata": {},
   "outputs": [],
   "source": [
    "documents[0].page_content\n"
   ]
  },
  {
   "cell_type": "code",
   "execution_count": null,
   "id": "79ab0957",
   "metadata": {},
   "outputs": [],
   "source": [
    "loader = SeleniumURLLoader([\"https://www.geeksforgeeks.org/python-pandas-dataframe-ix/\"])\n",
    "documents = loader.load()\n",
    "print(len(documents))\n"
   ]
  },
  {
   "cell_type": "code",
   "execution_count": null,
   "id": "82659f20",
   "metadata": {},
   "outputs": [],
   "source": [
    "print(documents[0].page_content)\n"
   ]
  }
 ],
 "metadata": {
  "kernelspec": {
   "display_name": ".venv",
   "language": "python",
   "name": "python3"
  },
  "language_info": {
   "codemirror_mode": {
    "name": "ipython",
    "version": 3
   },
   "file_extension": ".py",
   "mimetype": "text/x-python",
   "name": "python",
   "nbconvert_exporter": "python",
   "pygments_lexer": "ipython3",
   "version": "3.12.2"
  }
 },
 "nbformat": 4,
 "nbformat_minor": 5
}
