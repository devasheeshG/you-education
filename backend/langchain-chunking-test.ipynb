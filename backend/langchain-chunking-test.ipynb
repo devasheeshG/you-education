{
 "cells": [
  {
   "cell_type": "code",
   "execution_count": 1,
   "id": "2c7fc47b",
   "metadata": {},
   "outputs": [],
   "source": [
    "from langchain_community.document_loaders import (\n",
    "    TextLoader,\n",
    "    PyPDFLoader,\n",
    "    UnstructuredPowerPointLoader,\n",
    "    Docx2txtLoader,\n",
    "    UnstructuredMarkdownLoader,\n",
    "    YoutubeLoader,\n",
    "    UnstructuredURLLoader,\n",
    ")\n"
   ]
  },
  {
   "cell_type": "code",
   "execution_count": 3,
   "id": "48d645af",
   "metadata": {},
   "outputs": [
    {
     "data": {
      "text/plain": [
       "2"
      ]
     },
     "execution_count": 3,
     "metadata": {},
     "output_type": "execute_result"
    }
   ],
   "source": [
    "# Create the loader\n",
    "loader = PyPDFLoader(\"test_data/Devasheesh Mishra Resume.pdf\")\n",
    "\n",
    "# Load the documents\n",
    "documents = loader.load()\n",
    "\n",
    "len(documents)\n"
   ]
  },
  {
   "cell_type": "code",
   "execution_count": 6,
   "id": "8775c988",
   "metadata": {},
   "outputs": [
    {
     "name": "stdout",
     "output_type": "stream",
     "text": [
      "{'producer': 'pdfTeX-1.40.26', 'creator': 'LaTeX with hyperref', 'creationdate': '2024-07-27T11:11:35+00:00', 'author': '', 'keywords': '', 'moddate': '2024-07-27T11:11:35+00:00', 'ptex.fullbanner': 'This is pdfTeX, Version 3.141592653-2.6-1.40.26 (TeX Live 2024) kpathsea version 6.4.0', 'subject': '', 'title': '', 'trapped': '/False', 'source': 'test_data/Devasheesh Mishra Resume.pdf', 'total_pages': 2, 'page': 0, 'page_label': '1'}\n"
     ]
    }
   ],
   "source": [
    "# print(documents[0].page_content)\n",
    "print(documents[0].metadata)\n"
   ]
  }
 ],
 "metadata": {
  "kernelspec": {
   "display_name": ".venv",
   "language": "python",
   "name": "python3"
  },
  "language_info": {
   "codemirror_mode": {
    "name": "ipython",
    "version": 3
   },
   "file_extension": ".py",
   "mimetype": "text/x-python",
   "name": "python",
   "nbconvert_exporter": "python",
   "pygments_lexer": "ipython3",
   "version": "3.12.2"
  }
 },
 "nbformat": 4,
 "nbformat_minor": 5
}
